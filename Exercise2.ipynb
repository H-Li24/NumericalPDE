{
 "nbformat": 4,
 "nbformat_minor": 2,
 "metadata": {
  "language_info": {
   "name": "python",
   "codemirror_mode": {
    "name": "ipython",
    "version": 3
   },
   "version": "3.7.4-final"
  },
  "orig_nbformat": 2,
  "file_extension": ".py",
  "mimetype": "text/x-python",
  "name": "python",
  "npconvert_exporter": "python",
  "pygments_lexer": "ipython3",
  "version": 3,
  "kernelspec": {
   "name": "python3",
   "display_name": "Python 3"
  }
 },
 "cells": [
  {
   "cell_type": "markdown",
   "metadata": {},
   "source": [
    "$$\n",
    "u' = f(t,u)  \\quad 0<t \\leq 1, \\quad u(0)=1\n",
    "$$"
   ]
  },
  {
   "cell_type": "markdown",
   "metadata": {},
   "source": [
    "with right hand side\n",
    "$$\n",
    "f(t,u) = -u + t^3 + 3 t^2\n",
    "$$"
   ]
  },
  {
   "cell_type": "markdown",
   "metadata": {},
   "source": [
    "The exact solution\n",
    "$$\n",
    "u(t) = e^{-t} + x^3\n",
    "$$"
   ]
  },
  {
   "cell_type": "markdown",
   "metadata": {},
   "source": [
    "Euler method\n",
    "$$\n",
    "u_{n+1} = u_n + hf(t_n, u_n), \\quad n = 0, 1, ..., NP -1\n",
    "$$"
   ]
  },
  {
   "cell_type": "code",
   "execution_count": 2,
   "metadata": {},
   "outputs": [],
   "source": [
    " def err_evl(NT = 10):\n",
    "    import numpy as np\n",
    "    import matplotlib.pyplot as plt\n",
    "\n",
    "    def f(t,u):\n",
    "        return -u + t ** 3 + 3 * t ** 2\n",
    "\n",
    "    def u_exact(t):\n",
    "        return np.exp(-t) + t ** 3\n",
    "\n",
    "    # step 1\n",
    "    NT = NT # number of interval, 此为函数变量\n",
    "    NP = NT + 1 # number of points\n",
    "    a_left = 0\n",
    "    b_right = 1\n",
    "    h = (b_right-a_left)/NT # step size\n",
    "    t = np.zeros([NP,1], dtype = float)\n",
    "    for n in range(NP): #from 0 to NT, NT+1=NP points\n",
    "        t[n] = n * h\n",
    "\n",
    "    # step 2\n",
    "    uh = np.zeros([NP,1], dtype = float)\n",
    "    uh[0] = 1.0\n",
    "    for n in range(NT): #from 1 to NP, NT-1+1=NT=NP-1 points\n",
    "        uh[n+1] = uh[n] + h * f(t[n], uh[n])\n",
    "\n",
    "    # step 3\n",
    "    u = np.zeros([NP,1], dtype = float)\n",
    "    for n in range(NP):\n",
    "        u[n] = u_exact(t[n])\n",
    "\n",
    "    # step 4\n",
    "    err = np.abs(u - uh)\n",
    "    err_max = max(err)\n",
    "    return err_max"
   ]
  },
  {
   "cell_type": "code",
   "execution_count": 3,
   "metadata": {},
   "outputs": [
    {
     "data": {
      "text/plain": "array([0.01289147])"
     },
     "execution_count": 3,
     "metadata": {},
     "output_type": "execute_result"
    }
   ],
   "source": [
    "err_evl(100)"
   ]
  },
  {
   "cell_type": "code",
   "execution_count": 50,
   "metadata": {},
   "outputs": [
    {
     "name": "stdout",
     "output_type": "stream",
     "text": "[0.49701742827867257, 0.4984918655424512, 0.49924198027977945]\n[2.0, 2.0, 2.0]\n"
    }
   ],
   "source": [
    "E = []\n",
    "E_relative = []\n",
    "T = [10, 20 ,40 ,80]\n",
    "T_relative = []\n",
    "for NT in range(len(T)):\n",
    "    E.append(err_evl( T[NT] ))\n",
    "\n",
    "for N in range(1,len(T)):\n",
    "    E_relative.append( float(E[N]/E[N-1]) )\n",
    "\n",
    "for N in range(1,len(T)): \n",
    "    T_relative.append( float(T[N]/T[N-1] ))\n",
    "\n",
    "print(E_relative)\n",
    "print(T_relative)"
   ]
  }
 ]
}