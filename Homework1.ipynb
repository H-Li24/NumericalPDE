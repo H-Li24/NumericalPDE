{
 "nbformat": 4,
 "nbformat_minor": 2,
 "metadata": {
  "language_info": {
   "name": "python",
   "codemirror_mode": {
    "name": "ipython",
    "version": 3
   },
   "version": "3.7.4-final"
  },
  "orig_nbformat": 2,
  "file_extension": ".py",
  "mimetype": "text/x-python",
  "name": "python",
  "npconvert_exporter": "python",
  "pygments_lexer": "ipython3",
  "version": 3,
  "kernelspec": {
   "name": "python3",
   "display_name": "Python 3"
  }
 },
 "cells": [
  {
   "cell_type": "markdown",
   "metadata": {},
   "source": [
    "常微分方程问题\n",
    "$$\n",
    "u' = f(t,u)  \\quad 0<t \\leq 1, \\quad u(0)=1\n",
    "$$"
   ]
  },
  {
   "cell_type": "markdown",
   "metadata": {},
   "source": [
    "右端项\n",
    "$$\n",
    "f(t,u) = -u + t^3 + 3 t^2\n",
    "$$"
   ]
  },
  {
   "cell_type": "markdown",
   "metadata": {},
   "source": [
    "精确解\n",
    "$$\n",
    "u(t) = e^{-t} + x^3\n",
    "$$"
   ]
  },
  {
   "cell_type": "markdown",
   "metadata": {},
   "source": [
    "改进欧拉法(Heun方法)\n",
    "$$\n",
    "u_{n+1} = u_n + \\frac{h}{2} [f(t_n, u_n) + f(t_{n+1}, u_{n+1})], \\quad n = 0, 1, ..., NP -1\n",
    "$$"
   ]
  },
  {
   "cell_type": "markdown",
   "metadata": {},
   "source": [
    "因为$f(t,u)$ 是关于$u$的非线性函数，我们需要求解非线性问题。 "
   ]
  },
  {
   "cell_type": "markdown",
   "metadata": {},
   "source": [
    "所谓“改进欧拉法”，在维基百科中名为Heun方法。\n",
    "\n",
    "(1)在维基百科介绍的方法以及上课讲评的的方法，使用的均是“预测-校正”格式，首先用欧拉法，根据$u_n$计算出$u_{n+1}$的预测值$u^{0}_{n+1}$，再用一步迭代计算出校正值$u^{1}_{n+1}$。\n",
    "\n",
    "(2)但在李荣华的教材和老师的ppt上写的却是“取初值$u^{0}_{n+1}$ = u_n”，然后再迭代几步。这两者显然有比较大的区别。\n",
    "\n",
    "在此我有疑问：\n",
    "1. 这两者是否等价？还是说书上写错了？"
   ]
  },
  {
   "cell_type": "code",
   "execution_count": 9,
   "metadata": {},
   "outputs": [
    {
     "data": {
      "image/png": "[encoded data removed]",
      "text/plain": "<Figure size 432x288 with 1 Axes>"
     },
     "metadata": {
      "needs_background": "light"
     },
     "output_type": "display_data"
    }
   ],
   "source": [
    "import numpy as np\n",
    "import matplotlib.pyplot as plt\n",
    "\n",
    "def f(t,u):\n",
    "    return -u + t ** 3 + 3 * t ** 2\n",
    "\n",
    "def u_exact(t):\n",
    "    return np.exp(-t) + t ** 3\n",
    "\n",
    "# step 1\n",
    "NT =  40 # 区间个数, 此为函数变量\n",
    "NP = NT + 1 # 网点个数\n",
    "a_left = 0\n",
    "b_right = 1\n",
    "\n",
    "h = (b_right-a_left)/NT # 步长\n",
    "t = np.zeros([NP,1], dtype = float)\n",
    "for n in range(NP): # 从 0 到 NT, NT+1=NP 个点\n",
    "    t[n] = n * h\n",
    "\n",
    "# step 2\n",
    "uh_predict = np.zeros([NP,1], dtype = float) #保存预测值\n",
    "uh = np.zeros([NP,1], dtype = float) #近似值，或称校正值\n",
    "\n",
    "uh[0] = 1.0 # 初值\n",
    "for n in range(NP-1): # 从 1 to NP, NP-1 个点\n",
    "    uh_predict[n+1] = uh[n] + h * f(t[n], uh[n])\n",
    "    uh[n+1] = uh[n] + (h/2) * ( f(t[n], uh[n]) + f( t[n+1] , uh_predict[n+1] ) ) \n",
    "    \n",
    "\n",
    "# step 3\n",
    "u = np.zeros([NP,1], dtype = float) # 计算精确值\n",
    "for n in range(NP):\n",
    "    u[n] = u_exact(t[n])\n",
    "\n",
    "# plot\n",
    "plt.plot(t, uh) # 画图\n",
    "plt.plot(t, u)\n",
    "plt.show()"
   ]
  },
  {
   "cell_type": "code",
   "execution_count": 7,
   "metadata": {},
   "outputs": [],
   "source": [
    " def err_evl_1(NT = 10): #默认输入为10\n",
    "    import numpy as np\n",
    "    import matplotlib.pyplot as plt\n",
    "\n",
    "    def f(t,u):\n",
    "        return -u + t ** 3 + 3 * t ** 2\n",
    "\n",
    "    def u_exact(t):\n",
    "        return np.exp(-t) + t ** 3\n",
    "\n",
    "    # step 1\n",
    "    NT = NT #  区间个数, 此为函数变量\n",
    "    NP = NT + 1 # 网点个数\n",
    "    a_left = 0\n",
    "    b_right = 1\n",
    "    \n",
    "    h = (b_right-a_left)/NT # 步长\n",
    "    t = np.zeros([NP,1], dtype = float)\n",
    "    for n in range(NP): # 从 0 到 NT, NT+1=NP 个点\n",
    "        t[n] = n * h\n",
    "\n",
    "    # step 2\n",
    "    uh_predict = np.zeros([NP,1], dtype = float) # 保存预测值\n",
    "    uh = np.zeros([NP,1], dtype = float) #近似值，或称校正值\n",
    "\n",
    "    uh[0] = 1.0 # 初值\n",
    "    for n in range(NP-1): #从 1 to NP, NP-1 个点\n",
    "        uh_predict[n+1] = uh[n] + h * f(t[n], uh[n])\n",
    "        uh[n+1] = uh[n] + (h/2) * ( f(t[n], uh[n]) + f( t[n+1] , uh_predict[n+1] ) ) \n",
    "        \n",
    "\n",
    "    # step 3\n",
    "    u = np.zeros([NP,1], dtype = float) # 计算精确值\n",
    "    for n in range(NP):\n",
    "        u[n] = u_exact(t[n])\n",
    "\n",
    "    # step 4\n",
    "    err = np.abs(u - uh) # 计算最大误差\n",
    "    err_max = max(err)\n",
    "    return err_max"
   ]
  },
  {
   "cell_type": "code",
   "execution_count": 11,
   "metadata": {},
   "outputs": [
    {
     "name": "stdout",
     "output_type": "stream",
     "text": "[0.24585816374700284, 0.2478807354568733, 0.2489287474379618, 0.2494615248644563, 0.24973005710934001]\n[2.0, 2.0, 2.0, 2.0, 2.0]\n"
    }
   ],
   "source": [
    "E = []\n",
    "E_relative = []\n",
    "T = [10, 20 ,40, 80, 160, 320]\n",
    "T_relative = []\n",
    "for NT in range(len(T)):\n",
    "    E.append(err_evl_1( T[NT] )) # 调用上述主函数，计算不同步长下的误差\n",
    "\n",
    "for N in range(1,len(T)):\n",
    "    E_relative.append( float(E[N]/E[N-1]) ) # 计算前一个步长和后一个步长最大误差之比\n",
    "\n",
    "for N in range(1,len(T)): \n",
    "    T_relative.append( float(T[N]/T[N-1] )) # 计算前一个步长和后一个步长之比\n",
    "\n",
    "print(E_relative)\n",
    "print(T_relative)"
   ]
  },
  {
   "cell_type": "markdown",
   "metadata": {},
   "source": [
    "### 总结\n",
    "\n",
    "我们发现，（在步长减小为$1/2$时），改进欧拉法的误差的比值收敛于$1/4$，说明改进欧拉法是二阶的。"
   ]
  }
 ]
}