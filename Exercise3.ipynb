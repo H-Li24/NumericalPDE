{
 "nbformat": 4,
 "nbformat_minor": 2,
 "metadata": {
  "language_info": {
   "name": "python",
   "codemirror_mode": {
    "name": "ipython",
    "version": 3
   },
   "version": "3.7.4-final"
  },
  "orig_nbformat": 2,
  "file_extension": ".py",
  "mimetype": "text/x-python",
  "name": "python",
  "npconvert_exporter": "python",
  "pygments_lexer": "ipython3",
  "version": 3,
  "kernelspec": {
   "name": "python3",
   "display_name": "Python 3"
  }
 },
 "cells": [
  {
   "cell_type": "markdown",
   "metadata": {},
   "source": [
    "多步法\n",
    "$$\n",
    "\\sum\\limits_{j=0}^k \\alpha_j u_{n+j} = h \\sum \\limits_{j= 0}^k \\beta_j f_{n+j}\n",
    "$$"
   ]
  },
  {
   "cell_type": "markdown",
   "metadata": {},
   "source": [
    "$\\alpha_k \\neq 0$"
   ]
  },
  {
   "cell_type": "markdown",
   "metadata": {},
   "source": [
    "显式格式，$\\beta_k = 0$: 若$\\beta_k \\neq 0$，隐式格式"
   ]
  },
  {
   "cell_type": "markdown",
   "metadata": {},
   "source": [
    "$$ u' = f(t,u)\\quad t\\in (0, T) \\quad u(0) = u_0$$"
   ]
  },
  {
   "cell_type": "markdown",
   "metadata": {},
   "source": [
    "问题\n",
    "\n",
    "1. 怎样选取多步法的初值？\n",
    "\n",
    "2. 怎样求解隐式方程？"
   ]
  },
  {
   "cell_type": "markdown",
   "metadata": {},
   "source": [
    "$$\n",
    "u' = f(t,u)  \\quad 0<t \\leq 1, \\quad u(0)=1\n",
    "$$"
   ]
  },
  {
   "cell_type": "markdown",
   "metadata": {},
   "source": [
    "with right hand side\n",
    "$$\n",
    "f(t,u) = -u + t^3 + 3 t^2\n",
    "$$"
   ]
  },
  {
   "cell_type": "markdown",
   "metadata": {},
   "source": [
    "The exact solution\n",
    "$$\n",
    "u(t) = e^{-t} + x^3\n",
    "\n",
    "$$"
   ]
  },
  {
   "cell_type": "code",
   "execution_count": 7,
   "metadata": {},
   "outputs": [
    {
     "name": "stdout",
     "output_type": "stream",
     "text": "0.1\n[[0. ]\n [0.1]\n [0.2]\n [0.3]\n [0.4]\n [0.5]\n [0.6]\n [0.7]\n [0.8]\n [0.9]\n [1. ]]\n"
    }
   ],
   "source": [
    "import numpy as np\n",
    "import matplotlib.pyplot as plt\n",
    "\n",
    "def f(t,u):\n",
    "    return -u + t ** 3 + 3 * t ** 2\n",
    "def u_exact(t):\n",
    "    return np.exp(-t) + t ** 3\n",
    "\n",
    "NT = 10 # number of interval\n",
    "NP = NT + 1 # number of points\n",
    "a_left = 0\n",
    "b_right = 1\n",
    "h = (b_right-a_left)/NT # step sie\n",
    "print(h)\n",
    "t = np.zeros([NP,1], dtype = float)\n",
    "for n in range(NP): #from 0 to NT, NT+1=NP points\n",
    "    t[n] = n * h\n",
    "print(t)"
   ]
  },
  {
   "cell_type": "markdown",
   "metadata": {},
   "source": [
    "多步法的实现：实现最高阶的二步算法\n",
    "$$\n",
    "u_{n+2} = u_n + \\frac{h}{3}(f_{n+2} + 4f_{n+1} + f_{n})\n",
    "$$\n",
    "\n",
    "特点：\n",
    "\n",
    "1. 隐式格式，使用迭代法\n",
    "\n",
    "2. 需要两个初值$u_0 ,\\ u_{1}$\n",
    "\n",
    "3. 每一步计算均需要两个值$u_n, u_{n+1}$"
   ]
  },
  {
   "cell_type": "code",
   "execution_count": 13,
   "metadata": {},
   "outputs": [
    {
     "name": "stdout",
     "output_type": "stream",
     "text": "[[1.        ]\n [0.9       ]\n [0.82796333]\n [0.76233932]\n [0.73685913]\n [0.72636102]\n [0.76874153]\n [0.83466787]\n [0.96674439]\n [1.13083736]\n [1.37488614]]\n"
    }
   ],
   "source": [
    "uh = np.zeros([NP,1], dtype= float)\n",
    "uh[0] = 1\n",
    "uh[1] =  uh[0] + h * f(t[0], uh[0])\n",
    "for n in range(NP-2): #from 2 to NT\n",
    "    uh[n+2] = uh[n+1] + h * f(t[n+1], uh[n+1] ) #迭代初值\n",
    "    while True:\n",
    "        uh_old = uh[n+2]\n",
    "        uh[n+2] =uh[n] + (h/3) * ( f(t[n+2], uh[n+2]) + 4 * f(t[n+1], uh[n+1]) + f(t[n], uh[n]) )\n",
    "        if np.abs( uh[n+2] - uh_old ) < 0.001:\n",
    "            break\n",
    "print(uh)\n"
   ]
  }
 ]
}